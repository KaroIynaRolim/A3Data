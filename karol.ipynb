{
 "cells": [
  {
   "cell_type": "markdown",
   "id": "50bd83bf-1ee6-4ac3-b720-084c17edbc6f",
   "metadata": {},
   "source": [
    "## Imports CSV"
   ]
  },
  {
   "cell_type": "code",
   "execution_count": 49,
   "id": "7fe84712-6544-49fc-85b3-d6e69b804f06",
   "metadata": {
    "tags": []
   },
   "outputs": [],
   "source": [
    "import requests\n",
    "import zipfile "
   ]
  },
  {
   "cell_type": "code",
   "execution_count": 26,
   "id": "2191e3fd-9398-4aa2-855f-11124c70e452",
   "metadata": {
    "tags": []
   },
   "outputs": [],
   "source": [
    "url = \"https://download.inep.gov.br/microdados/microdados_censo_da_educacao_superior_2021.zip\""
   ]
  },
  {
   "cell_type": "code",
   "execution_count": 27,
   "id": "e9501547-e650-4a17-b072-d94d91b19cb4",
   "metadata": {
    "tags": []
   },
   "outputs": [
    {
     "name": "stderr",
     "output_type": "stream",
     "text": [
      "/opt/conda/lib/python3.10/site-packages/urllib3/connectionpool.py:1045: InsecureRequestWarning: Unverified HTTPS request is being made to host 'download.inep.gov.br'. Adding certificate verification is strongly advised. See: https://urllib3.readthedocs.io/en/1.26.x/advanced-usage.html#ssl-warnings\n",
      "  warnings.warn(\n"
     ]
    }
   ],
   "source": [
    "r=requests.get(url, verify=False)"
   ]
  },
  {
   "cell_type": "code",
   "execution_count": 28,
   "id": "f340a3d6-540f-4d9b-ab67-7ce191e0a3cb",
   "metadata": {
    "tags": []
   },
   "outputs": [],
   "source": [
    "with open(\"r.zip\",\"wb\") as f:\n",
    "    f.write(r.content)"
   ]
  },
  {
   "cell_type": "code",
   "execution_count": 30,
   "id": "11ef202c-30d6-47fa-afb7-c318657ec79f",
   "metadata": {
    "tags": []
   },
   "outputs": [],
   "source": [
    "with zipfile.ZipFile(\"r.zip\",\"r\") as zip_ref:\n",
    "    zip_ref.extractall(\"./data\")"
   ]
  },
  {
   "cell_type": "markdown",
   "id": "84a6cede-db1c-4ab9-9041-3b0b19b23836",
   "metadata": {
    "tags": []
   },
   "source": [
    "## import sparkssesion"
   ]
  },
  {
   "cell_type": "code",
   "execution_count": 4,
   "id": "5fe28a57-3fe1-4276-bba5-e58b3d3a46c7",
   "metadata": {
    "tags": []
   },
   "outputs": [],
   "source": [
    "from pyspark.sql import SparkSession"
   ]
  },
  {
   "cell_type": "code",
   "execution_count": 5,
   "id": "5cfa30de-fdb9-434c-9a12-fb6bff1841c4",
   "metadata": {
    "tags": []
   },
   "outputs": [],
   "source": [
    "spark = SparkSession \\\n",
    ".builder \\\n",
    ".config(\"spark.sql.repl.eagerEval.enabled\", \"True\") \\\n",
    ".config(\"spark.sql.repl.eagerEval.maxNumRows\", \"10\") \\\n",
    ".getOrCreate()"
   ]
  },
  {
   "cell_type": "code",
   "execution_count": 6,
   "id": "15f99ab0-0538-4cc2-8d59-7acd6d93b80b",
   "metadata": {
    "tags": []
   },
   "outputs": [],
   "source": [
    "df = spark.read.csv(\"data/Microdados do Censo da Educaç╞o Superior 2021/dados/MICRODADOS_CADASTRO_IES_2021.CSV\", sep=';', header=True, inferSchema=True)"
   ]
  },
  {
   "cell_type": "code",
   "execution_count": 7,
   "id": "a2aa9003-bb8f-456e-aea6-68dabccb9352",
   "metadata": {
    "tags": []
   },
   "outputs": [],
   "source": [
    "for col in df.columns:\n",
    "    df = df.withColumnRenamed(col, col.lower())"
   ]
  },
  {
   "cell_type": "code",
   "execution_count": 8,
   "id": "39a51a9c-03c9-4981-b1bd-3c6b4bca762b",
   "metadata": {
    "tags": []
   },
   "outputs": [],
   "source": [
    "df.createOrReplaceTempView('df')"
   ]
  },
  {
   "cell_type": "markdown",
   "id": "696b18a9-2522-4395-ab3d-aaaf6547eb1a",
   "metadata": {
    "tags": []
   },
   "source": [
    "## CSV para PARQUET"
   ]
  },
  {
   "cell_type": "code",
   "execution_count": null,
   "id": "8dfd08cd-174b-40ec-b7f7-d5076b7cd305",
   "metadata": {},
   "outputs": [],
   "source": [
    "df.write.parquet(\"MICRODADOS_IES_CONSULTA.parquet\")"
   ]
  },
  {
   "cell_type": "code",
   "execution_count": 9,
   "id": "3a59f025-8c59-4a67-b910-99255da95f34",
   "metadata": {
    "tags": []
   },
   "outputs": [],
   "source": [
    "parquet_df = spark.read.parquet(\"MICRODADOS_IES_CONSULTA.parquet\")"
   ]
  },
  {
   "cell_type": "code",
   "execution_count": 10,
   "id": "0f113213-2489-43e5-82c3-22bf38c8cbba",
   "metadata": {
    "tags": []
   },
   "outputs": [],
   "source": [
    "parquet_df.createOrReplaceTempView(\"parquet_df\")"
   ]
  },
  {
   "cell_type": "markdown",
   "id": "89c8b6a5-47e5-4152-8e80-d876f730f0d5",
   "metadata": {},
   "source": [
    "# Consultas"
   ]
  },
  {
   "cell_type": "markdown",
   "id": "514a456f-196b-4bbc-b5a9-3d352ec2bf9f",
   "metadata": {
    "tags": []
   },
   "source": [
    "## Olhando para o estado de Minas Gerais, quantos municípios têm informações presentes na base de dados?"
   ]
  },
  {
   "cell_type": "code",
   "execution_count": 11,
   "id": "16dbe7b3-703c-4454-b4b4-a730bcf1e69c",
   "metadata": {
    "tags": []
   },
   "outputs": [
    {
     "name": "stdout",
     "output_type": "stream",
     "text": [
      "+--------------------------------+\n",
      "|count(DISTINCT no_municipio_ies)|\n",
      "+--------------------------------+\n",
      "|                             104|\n",
      "+--------------------------------+\n",
      "\n"
     ]
    }
   ],
   "source": [
    "p1 = spark.sql(\"\"\"\n",
    "    select COUNT(DISTINCT no_municipio_ies) from parquet_df\n",
    "    where sg_uf_ies = 'MG'\n",
    "\"\"\")\n",
    "p1.show()"
   ]
  },
  {
   "cell_type": "markdown",
   "id": "41c3e1aa-8d59-40a7-b1d3-b540b2a76863",
   "metadata": {
    "tags": []
   },
   "source": [
    "## Quantos professores doutores existem em cada cidade de Minas Gerais presente na base de dados "
   ]
  },
  {
   "cell_type": "code",
   "execution_count": 13,
   "id": "a3ae5897-e048-4888-aad2-0778a7835aca",
   "metadata": {
    "tags": []
   },
   "outputs": [
    {
     "name": "stdout",
     "output_type": "stream",
     "text": [
      "+--------------------+------------+\n",
      "|           municipio|Qtd_Doutores|\n",
      "+--------------------+------------+\n",
      "|      Belo Horizonte|        6615|\n",
      "|          Uberl�ndia|        1939|\n",
      "|        Juiz de Fora|        1915|\n",
      "|              Vi�osa|        1185|\n",
      "|       Montes Claros|         925|\n",
      "|             Uberaba|         891|\n",
      "|              Lavras|         812|\n",
      "|    S�o Jo�o del Rei|         753|\n",
      "|          Ouro Preto|         746|\n",
      "|          Diamantina|         673|\n",
      "|             Alfenas|         661|\n",
      "|        Pouso Alegre|         499|\n",
      "|             Itajub�|         304|\n",
      "|            Contagem|         219|\n",
      "|         Sete Lagoas|         201|\n",
      "|               Betim|         192|\n",
      "|         Divin�polis|         133|\n",
      "|        Bom Despacho|         129|\n",
      "|Governador Valadares|         110|\n",
      "|            Ipatinga|         107|\n",
      "+--------------------+------------+\n",
      "only showing top 20 rows\n",
      "\n"
     ]
    }
   ],
   "source": [
    "p2 = spark.sql(\"\"\"\n",
    "    SELECT no_municipio_ies as municipio, sum(qt_doc_ex_dout) as Qtd_Doutores from parquet_df WHERE no_uf_ies = 'Minas Gerais' \n",
    "          group by no_municipio_ies order by Qtd_Doutores DESC\n",
    "          \"\"\")\n",
    "p2.show()"
   ]
  },
  {
   "cell_type": "markdown",
   "id": "e0cac58f-841e-4292-aec3-6a8b96cb51aa",
   "metadata": {
    "tags": []
   },
   "source": [
    "##  Qual a quantidade de docentes com deficiência no estado do Paraná?\n"
   ]
  },
  {
   "cell_type": "code",
   "execution_count": 14,
   "id": "fa764ff3-f61b-4ca7-8d8b-4625a3d1a4fb",
   "metadata": {
    "tags": []
   },
   "outputs": [
    {
     "name": "stdout",
     "output_type": "stream",
     "text": [
      "+------------------------------+\n",
      "|sum(qt_doc_ex_com_deficiencia)|\n",
      "+------------------------------+\n",
      "|                           160|\n",
      "+------------------------------+\n",
      "\n"
     ]
    }
   ],
   "source": [
    "p3 = spark.sql(\"SELECT SUM(qt_doc_ex_com_deficiencia) FROM parquet_df WHERE sg_uf_ies = 'PR' \") \n",
    "p3.show()"
   ]
  },
  {
   "cell_type": "code",
   "execution_count": null,
   "id": "9e6faf54-5bec-46bb-9be2-4cb7009f0f02",
   "metadata": {},
   "outputs": [],
   "source": []
  }
 ],
 "metadata": {
  "kernelspec": {
   "display_name": "Python 3 (ipykernel)",
   "language": "python",
   "name": "python3"
  },
  "language_info": {
   "codemirror_mode": {
    "name": "ipython",
    "version": 3
   },
   "file_extension": ".py",
   "mimetype": "text/x-python",
   "name": "python",
   "nbconvert_exporter": "python",
   "pygments_lexer": "ipython3",
   "version": "3.10.10"
  }
 },
 "nbformat": 4,
 "nbformat_minor": 5
}
